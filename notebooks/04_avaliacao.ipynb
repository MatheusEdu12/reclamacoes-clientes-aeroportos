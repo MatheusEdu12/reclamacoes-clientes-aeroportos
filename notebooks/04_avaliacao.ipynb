{
 "cells": [
  {
   "cell_type": "markdown",
   "id": "8b27406e",
   "metadata": {},
   "source": [
    "# Avaliação de Modelos de Reclamações de Aeroporto\n",
    "\n",
    "Avaliação dos modelos treinados utilizando o conjunto de teste para verificar desempenho em dados não vistos."
   ]
  },
  {
   "cell_type": "code",
   "execution_count": 38,
   "id": "31727abf",
   "metadata": {},
   "outputs": [],
   "source": [
    "import numpy as np\n",
    "import pandas as pd\n",
    "from sklearn.metrics import classification_report, confusion_matrix\n",
    "import joblib\n",
    "\n",
    "X_test_set = pd.read_csv(\"data/processed/X_test.csv\")\n",
    "y_test = pd.read_csv(\"data/processed/y_test.csv\").values.ravel()\n"
   ]
  },
  {
   "cell_type": "markdown",
   "id": "ea7832a3",
   "metadata": {},
   "source": [
    "## Carregamento dos modelos treinados\n",
    "\n",
    "Importação dos modelos Decision Tree, Random Forest e Logistic Regression previamente treinados."
   ]
  },
  {
   "cell_type": "code",
   "execution_count": 39,
   "id": "bfce81e2",
   "metadata": {},
   "outputs": [],
   "source": [
    "best_dt = joblib.load(\"models/decision_tree_model.pkl\")\n",
    "best_rf = joblib.load(\"models/random_forest_model.pkl\")\n",
    "best_logreg = joblib.load(\"models/logreg_model.pkl\")"
   ]
  },
  {
   "cell_type": "markdown",
   "id": "eb2fcdc4",
   "metadata": {},
   "source": [
    "## Predição com os modelos\n",
    "\n",
    "Geração das predições para cada modelo utilizando o conjunto de teste."
   ]
  },
  {
   "cell_type": "code",
   "execution_count": 40,
   "id": "5eb28c40",
   "metadata": {},
   "outputs": [],
   "source": [
    "# Decision Tree\n",
    "y_pred_dt = best_dt.predict(X_test_set)\n",
    "\n",
    "# Random Forest\n",
    "y_pred_rf = best_rf.predict(X_test_set)\n",
    "\n",
    "# Logistic Regression\n",
    "y_pred_logreg = best_logreg.predict(X_test_set)\n"
   ]
  },
  {
   "cell_type": "markdown",
   "id": "d80c96dd",
   "metadata": {},
   "source": [
    "## Avaliação dos modelos\n",
    "\n",
    "Cálculo de classification reports e matrizes de confusão para cada modelo, verificando desempenho em dados de teste."
   ]
  },
  {
   "cell_type": "code",
   "execution_count": 41,
   "id": "da774d2b",
   "metadata": {},
   "outputs": [
    {
     "name": "stdout",
     "output_type": "stream",
     "text": [
      "Decision Tree Classification Report (Teste):\n",
      "               precision    recall  f1-score   support\n",
      "\n",
      "           0       0.73      0.34      0.46       621\n",
      "           1       0.49      0.83      0.62       466\n",
      "\n",
      "    accuracy                           0.55      1087\n",
      "   macro avg       0.61      0.59      0.54      1087\n",
      "weighted avg       0.63      0.55      0.53      1087\n",
      "\n",
      "Decision Tree Confusion Matrix (Teste):\n",
      " [[211 410]\n",
      " [ 77 389]]\n",
      "Random Forest Classification Report (Teste):\n",
      "               precision    recall  f1-score   support\n",
      "\n",
      "           0       0.70      0.36      0.48       621\n",
      "           1       0.48      0.80      0.60       466\n",
      "\n",
      "    accuracy                           0.55      1087\n",
      "   macro avg       0.59      0.58      0.54      1087\n",
      "weighted avg       0.61      0.55      0.53      1087\n",
      "\n",
      "Random Forest Confusion Matrix (Teste):\n",
      " [[224 397]\n",
      " [ 94 372]]\n",
      "Logistic Regression Classification Report (Teste):\n",
      "               precision    recall  f1-score   support\n",
      "\n",
      "           0       0.67      0.57      0.61       621\n",
      "           1       0.52      0.62      0.56       466\n",
      "\n",
      "    accuracy                           0.59      1087\n",
      "   macro avg       0.59      0.59      0.59      1087\n",
      "weighted avg       0.60      0.59      0.59      1087\n",
      "\n",
      "Logistic Regression Confusion Matrix (Teste):\n",
      " [[352 269]\n",
      " [177 289]]\n"
     ]
    }
   ],
   "source": [
    "# Decision Tree\n",
    "print(\"Decision Tree Classification Report (Teste):\\n\", classification_report(y_test, y_pred_dt))\n",
    "print(\"Decision Tree Confusion Matrix (Teste):\\n\", confusion_matrix(y_test, y_pred_dt))\n",
    "\n",
    "# Random Forest\n",
    "print(\"Random Forest Classification Report (Teste):\\n\", classification_report(y_test, y_pred_rf))\n",
    "print(\"Random Forest Confusion Matrix (Teste):\\n\", confusion_matrix(y_test, y_pred_rf))\n",
    "\n",
    "# Logistic Regression\n",
    "print(\"Logistic Regression Classification Report (Teste):\\n\", classification_report(y_test, y_pred_logreg))\n",
    "print(\"Logistic Regression Confusion Matrix (Teste):\\n\", confusion_matrix(y_test, y_pred_logreg))\n"
   ]
  },
  {
   "cell_type": "markdown",
   "id": "9e474214",
   "metadata": {},
   "source": [
    "## Comparação entre valores reais e predições\n",
    "\n",
    "Criação de DataFrames comparando os valores reais com as predições de cada modelo, permitindo análise detalhada de acertos e erros."
   ]
  },
  {
   "cell_type": "code",
   "execution_count": 42,
   "id": "b9ea066b",
   "metadata": {},
   "outputs": [
    {
     "name": "stdout",
     "output_type": "stream",
     "text": [
      "Decision Tree - Comparação alvo x predição (teste):\n",
      "   y_real  y_pred\n",
      "0       1       1\n",
      "1       0       1\n",
      "2       0       0\n",
      "3       1       0\n",
      "4       1       1\n",
      "5       0       1\n",
      "6       0       1\n",
      "7       0       0\n",
      "8       1       1\n",
      "9       1       1\n",
      "Random Forest - Comparação alvo x predição (teste):\n",
      "   y_real  y_pred\n",
      "0       1       1\n",
      "1       0       1\n",
      "2       0       0\n",
      "3       1       0\n",
      "4       1       1\n",
      "5       0       1\n",
      "6       0       1\n",
      "7       0       0\n",
      "8       1       0\n",
      "9       1       1\n",
      "Logistic Regression - Comparação alvo x predição (teste):\n",
      "   y_real  y_pred\n",
      "0       1       1\n",
      "1       0       1\n",
      "2       0       0\n",
      "3       1       1\n",
      "4       1       1\n",
      "5       0       1\n",
      "6       0       0\n",
      "7       0       0\n",
      "8       1       1\n",
      "9       1       1\n"
     ]
    }
   ],
   "source": [
    "# Decision Tree\n",
    "comparison_dt = pd.DataFrame({\n",
    "    'y_real': y_test,\n",
    "    'y_pred': y_pred_dt\n",
    "})\n",
    "print(\"Decision Tree - Comparação alvo x predição (teste):\")\n",
    "print(comparison_dt.head(10))\n",
    "\n",
    "# Random Forest\n",
    "comparison_rf = pd.DataFrame({\n",
    "    'y_real': y_test,\n",
    "    'y_pred': y_pred_rf\n",
    "})\n",
    "print(\"Random Forest - Comparação alvo x predição (teste):\")\n",
    "print(comparison_rf.head(10))\n",
    "\n",
    "# Logistic Regression\n",
    "comparison_logreg = pd.DataFrame({\n",
    "    'y_real': y_test,\n",
    "    'y_pred': y_pred_logreg\n",
    "})\n",
    "print(\"Logistic Regression - Comparação alvo x predição (teste):\")\n",
    "print(comparison_logreg.head(10))\n"
   ]
  }
 ],
 "metadata": {
  "kernelspec": {
   "display_name": "Python 3 (ipykernel)",
   "language": "python",
   "name": "python3"
  },
  "language_info": {
   "codemirror_mode": {
    "name": "ipython",
    "version": 3
   },
   "file_extension": ".py",
   "mimetype": "text/x-python",
   "name": "python",
   "nbconvert_exporter": "python",
   "pygments_lexer": "ipython3",
   "version": "3.11.14"
  }
 },
 "nbformat": 4,
 "nbformat_minor": 5
}
