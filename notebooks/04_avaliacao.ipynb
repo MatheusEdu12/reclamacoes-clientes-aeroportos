{
 "cells": [
  {
   "cell_type": "code",
   "execution_count": 6,
   "id": "31727abf",
   "metadata": {},
   "outputs": [],
   "source": [
    "import numpy as np\n",
    "import pandas as pd\n",
    "from sklearn.metrics import classification_report, confusion_matrix\n",
    "import joblib\n",
    "\n",
    "# Carregar conjuntos de teste preprocessados\n",
    "X_test_set = np.load(\"data/processed/X_test.npy\")\n",
    "y_test = pd.read_csv(\"data/processed/y_test.csv\").values.ravel()\n"
   ]
  },
  {
   "cell_type": "code",
   "execution_count": 7,
   "id": "bfce81e2",
   "metadata": {},
   "outputs": [],
   "source": [
    "best_dt = joblib.load(\"models/decision_tree_model.pkl\")\n",
    "best_rf = joblib.load(\"models/random_forest_model.pkl\")\n"
   ]
  },
  {
   "cell_type": "code",
   "execution_count": 8,
   "id": "5eb28c40",
   "metadata": {},
   "outputs": [],
   "source": [
    "# Decision Tree\n",
    "y_pred_dt = best_dt.predict(X_test_set)\n",
    "\n",
    "# Random Forest\n",
    "y_pred_rf = best_rf.predict(X_test_set)\n"
   ]
  },
  {
   "cell_type": "code",
   "execution_count": 9,
   "id": "da774d2b",
   "metadata": {},
   "outputs": [
    {
     "name": "stdout",
     "output_type": "stream",
     "text": [
      "Decision Tree Classification Report (Teste):\n",
      "               precision    recall  f1-score   support\n",
      "\n",
      "           0       1.00      1.00      1.00       580\n",
      "           1       1.00      1.00      1.00       699\n",
      "\n",
      "    accuracy                           1.00      1279\n",
      "   macro avg       1.00      1.00      1.00      1279\n",
      "weighted avg       1.00      1.00      1.00      1279\n",
      "\n",
      "Decision Tree Confusion Matrix (Teste):\n",
      " [[580   0]\n",
      " [  0 699]]\n",
      "Random Forest Classification Report (Teste):\n",
      "               precision    recall  f1-score   support\n",
      "\n",
      "           0       1.00      1.00      1.00       580\n",
      "           1       1.00      1.00      1.00       699\n",
      "\n",
      "    accuracy                           1.00      1279\n",
      "   macro avg       1.00      1.00      1.00      1279\n",
      "weighted avg       1.00      1.00      1.00      1279\n",
      "\n",
      "Random Forest Confusion Matrix (Teste):\n",
      " [[580   0]\n",
      " [  0 699]]\n"
     ]
    }
   ],
   "source": [
    "# Decision Tree\n",
    "print(\"Decision Tree Classification Report (Teste):\\n\", classification_report(y_test, y_pred_dt))\n",
    "print(\"Decision Tree Confusion Matrix (Teste):\\n\", confusion_matrix(y_test, y_pred_dt))\n",
    "\n",
    "# Random Forest\n",
    "print(\"Random Forest Classification Report (Teste):\\n\", classification_report(y_test, y_pred_rf))\n",
    "print(\"Random Forest Confusion Matrix (Teste):\\n\", confusion_matrix(y_test, y_pred_rf))\n"
   ]
  },
  {
   "cell_type": "code",
   "execution_count": 10,
   "id": "b9ea066b",
   "metadata": {},
   "outputs": [
    {
     "name": "stdout",
     "output_type": "stream",
     "text": [
      "Decision Tree - Comparação alvo x predição (teste):\n",
      "   y_real  y_pred\n",
      "0       0       0\n",
      "1       1       1\n",
      "2       0       0\n",
      "3       1       1\n",
      "4       0       0\n",
      "Random Forest - Comparação alvo x predição (teste):\n",
      "   y_real  y_pred\n",
      "0       0       0\n",
      "1       1       1\n",
      "2       0       0\n",
      "3       1       1\n",
      "4       0       0\n"
     ]
    }
   ],
   "source": [
    "# Decision Tree\n",
    "comparison_dt = pd.DataFrame({\n",
    "    'y_real': y_test,\n",
    "    'y_pred': y_pred_dt\n",
    "})\n",
    "print(\"Decision Tree - Comparação alvo x predição (teste):\")\n",
    "print(comparison_dt.head())\n",
    "\n",
    "# Random Forest\n",
    "comparison_rf = pd.DataFrame({\n",
    "    'y_real': y_test,\n",
    "    'y_pred': y_pred_rf\n",
    "})\n",
    "print(\"Random Forest - Comparação alvo x predição (teste):\")\n",
    "print(comparison_rf.head())\n"
   ]
  }
 ],
 "metadata": {
  "kernelspec": {
   "display_name": "Python 3 (ipykernel)",
   "language": "python",
   "name": "python3"
  },
  "language_info": {
   "codemirror_mode": {
    "name": "ipython",
    "version": 3
   },
   "file_extension": ".py",
   "mimetype": "text/x-python",
   "name": "python",
   "nbconvert_exporter": "python",
   "pygments_lexer": "ipython3",
   "version": "3.11.14"
  }
 },
 "nbformat": 4,
 "nbformat_minor": 5
}
