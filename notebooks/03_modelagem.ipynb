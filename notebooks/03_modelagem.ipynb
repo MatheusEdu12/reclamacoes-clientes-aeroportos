{
 "cells": [
  {
   "cell_type": "code",
   "execution_count": 31,
   "id": "e012fc89",
   "metadata": {},
   "outputs": [],
   "source": [
    "import numpy as np\n",
    "import pandas as pd\n",
    "from sklearn.tree import DecisionTreeClassifier\n",
    "from sklearn.ensemble import RandomForestClassifier\n",
    "from sklearn.model_selection import GridSearchCV, cross_val_score\n",
    "from sklearn.metrics import classification_report, confusion_matrix\n",
    "import joblib\n",
    "import os"
   ]
  },
  {
   "cell_type": "code",
   "execution_count": 32,
   "id": "da835abd",
   "metadata": {},
   "outputs": [],
   "source": [
    "X_train = np.load(\"data/processed/X_train.npy\")\n",
    "y_train = pd.read_csv(\"data/processed/y_train.csv\").values.ravel() "
   ]
  },
  {
   "cell_type": "code",
   "execution_count": 33,
   "id": "4d8f835e",
   "metadata": {},
   "outputs": [],
   "source": [
    "def train_classifier(model, param_grid, X, y, cv=5):\n",
    "    grid = GridSearchCV(\n",
    "        model,\n",
    "        param_grid,\n",
    "        cv=cv,\n",
    "        scoring='f1',\n",
    "        n_jobs=-1\n",
    "    )\n",
    "    \n",
    "    grid.fit(X, y)\n",
    "    best_model = grid.best_estimator_\n",
    "    \n",
    "    scores = cross_val_score(best_model, X, y, scoring='f1', cv=cv, n_jobs=-1)\n",
    "    mean_cv_f1 = scores.mean()\n",
    "    \n",
    "    return best_model, mean_cv_f1, grid.best_params_\n"
   ]
  },
  {
   "cell_type": "code",
   "execution_count": 34,
   "id": "2a7526c7",
   "metadata": {},
   "outputs": [],
   "source": [
    "# Decision Tree\n",
    "dt_params = {\n",
    "    'max_depth': [None, 5, 10, 20],\n",
    "    'min_samples_split': [2, 5, 10],\n",
    "    'min_samples_leaf': [1, 2, 4],\n",
    "    'class_weight': ['balanced']\n",
    "}\n",
    "\n",
    "# Random Forest\n",
    "rf_params = {\n",
    "    'n_estimators': [100, 200],\n",
    "    'max_depth': [None, 10, 20],\n",
    "    'min_samples_split': [2, 5],\n",
    "    'min_samples_leaf': [1, 2],\n",
    "    'class_weight': ['balanced']\n",
    "}\n"
   ]
  },
  {
   "cell_type": "code",
   "execution_count": 35,
   "id": "499f06cf",
   "metadata": {},
   "outputs": [
    {
     "name": "stdout",
     "output_type": "stream",
     "text": [
      "Decision Tree - Melhores parâmetros: {'class_weight': 'balanced', 'max_depth': None, 'min_samples_leaf': 1, 'min_samples_split': 2} | F1-score CV: 0.9996937212863706\n",
      "Random Forest - Melhores parâmetros: {'class_weight': 'balanced', 'max_depth': None, 'min_samples_leaf': 1, 'min_samples_split': 2, 'n_estimators': 100} | F1-score CV: 0.9996937212863706\n"
     ]
    }
   ],
   "source": [
    "best_dt, f1_dt, best_params_dt = train_classifier(DecisionTreeClassifier(random_state=42), dt_params, X_train, y_train)\n",
    "best_rf, f1_rf, best_params_rf = train_classifier(RandomForestClassifier(random_state=42), rf_params, X_train, y_train)\n",
    "\n",
    "print(\"Decision Tree - Melhores parâmetros:\", best_params_dt, \"| F1-score CV:\", f1_dt)\n",
    "print(\"Random Forest - Melhores parâmetros:\", best_params_rf, \"| F1-score CV:\", f1_rf)\n"
   ]
  },
  {
   "cell_type": "code",
   "execution_count": 36,
   "id": "4a16c65f",
   "metadata": {},
   "outputs": [
    {
     "name": "stdout",
     "output_type": "stream",
     "text": [
      "Decision Tree Classification Report:\n",
      "               precision    recall  f1-score   support\n",
      "\n",
      "           0       1.00      1.00      1.00      1353\n",
      "           1       1.00      1.00      1.00      1631\n",
      "\n",
      "    accuracy                           1.00      2984\n",
      "   macro avg       1.00      1.00      1.00      2984\n",
      "weighted avg       1.00      1.00      1.00      2984\n",
      "\n",
      "Decision Tree Confusion Matrix:\n",
      " [[1353    0]\n",
      " [   0 1631]]\n",
      "Random Forest Classification Report:\n",
      "               precision    recall  f1-score   support\n",
      "\n",
      "           0       1.00      1.00      1.00      1353\n",
      "           1       1.00      1.00      1.00      1631\n",
      "\n",
      "    accuracy                           1.00      2984\n",
      "   macro avg       1.00      1.00      1.00      2984\n",
      "weighted avg       1.00      1.00      1.00      2984\n",
      "\n",
      "Random Forest Confusion Matrix:\n",
      " [[1353    0]\n",
      " [   0 1631]]\n"
     ]
    }
   ],
   "source": [
    "# Decision Tree\n",
    "y_pred_dt = best_dt.predict(X_train)\n",
    "print(\"Decision Tree Classification Report:\\n\", classification_report(y_train, y_pred_dt))\n",
    "print(\"Decision Tree Confusion Matrix:\\n\", confusion_matrix(y_train, y_pred_dt))\n",
    "\n",
    "# Random Forest\n",
    "y_pred_rf = best_rf.predict(X_train)\n",
    "print(\"Random Forest Classification Report:\\n\", classification_report(y_train, y_pred_rf))\n",
    "print(\"Random Forest Confusion Matrix:\\n\", confusion_matrix(y_train, y_pred_rf))\n"
   ]
  },
  {
   "cell_type": "code",
   "execution_count": 37,
   "id": "72e6b989",
   "metadata": {},
   "outputs": [
    {
     "name": "stdout",
     "output_type": "stream",
     "text": [
      "Decision Tree - Comparação alvo x predição (treino):\n",
      "   y_real  y_pred\n",
      "0       0       0\n",
      "1       0       0\n",
      "2       0       0\n",
      "3       0       0\n",
      "4       0       0\n",
      "Random Forest - Comparação alvo x predição (treino):\n",
      "   y_real  y_pred\n",
      "0       0       0\n",
      "1       0       0\n",
      "2       0       0\n",
      "3       0       0\n",
      "4       0       0\n"
     ]
    }
   ],
   "source": [
    "# Comparar y_real e y_pred para Decision Tree\n",
    "comparison_dt = pd.DataFrame({\n",
    "    'y_real': y_train,\n",
    "    'y_pred': y_pred_dt\n",
    "})\n",
    "print(\"Decision Tree - Comparação alvo x predição (treino):\")\n",
    "print(comparison_dt.head())\n",
    "\n",
    "# Comparar y_real e y_pred para Random Forest\n",
    "comparison_rf = pd.DataFrame({\n",
    "    'y_real': y_train,\n",
    "    'y_pred': y_pred_rf\n",
    "})\n",
    "print(\"Random Forest - Comparação alvo x predição (treino):\")\n",
    "print(comparison_rf.head())\n"
   ]
  },
  {
   "cell_type": "code",
   "execution_count": 38,
   "id": "6e0b9d2f",
   "metadata": {},
   "outputs": [
    {
     "name": "stdout",
     "output_type": "stream",
     "text": [
      "Modelos salvos em 'models/'\n"
     ]
    }
   ],
   "source": [
    "import os\n",
    "import joblib\n",
    "\n",
    "# Criar pasta para salvar os modelos, se não existir\n",
    "os.makedirs(\"models\", exist_ok=True)\n",
    "\n",
    "# Salvar os modelos treinados\n",
    "joblib.dump(best_dt, \"models/decision_tree_model.pkl\")\n",
    "joblib.dump(best_rf, \"models/random_forest_model.pkl\")\n",
    "\n",
    "print(\"Modelos salvos em 'models/'\")\n"
   ]
  }
 ],
 "metadata": {
  "kernelspec": {
   "display_name": "Python 3 (ipykernel)",
   "language": "python",
   "name": "python3"
  },
  "language_info": {
   "codemirror_mode": {
    "name": "ipython",
    "version": 3
   },
   "file_extension": ".py",
   "mimetype": "text/x-python",
   "name": "python",
   "nbconvert_exporter": "python",
   "pygments_lexer": "ipython3",
   "version": "3.11.14"
  }
 },
 "nbformat": 4,
 "nbformat_minor": 5
}
