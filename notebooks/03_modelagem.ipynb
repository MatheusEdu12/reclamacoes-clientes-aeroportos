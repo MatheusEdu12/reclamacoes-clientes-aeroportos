{
 "cells": [
  {
   "cell_type": "markdown",
   "id": "eda77f54",
   "metadata": {},
   "source": [
    "# Modelagem de Reclamações de Aeroporto\n",
    "\n",
    "Treinamento e avaliação de modelos de Machine Learning para predizer reclamações com maior probabilidade de serem negadas."
   ]
  },
  {
   "cell_type": "code",
   "execution_count": null,
   "id": "e012fc89",
   "metadata": {},
   "outputs": [],
   "source": [
    "import pandas as pd\n",
    "from sklearn.tree import DecisionTreeClassifier\n",
    "from sklearn.ensemble import RandomForestClassifier\n",
    "from sklearn.linear_model import LogisticRegression\n",
    "from sklearn.model_selection import GridSearchCV, cross_val_score\n",
    "from sklearn.metrics import classification_report, confusion_matrix, make_scorer, recall_score\n",
    "import joblib\n",
    "import os"
   ]
  },
  {
   "cell_type": "markdown",
   "id": "a4619dee",
   "metadata": {},
   "source": [
    "## Carregamento dos dados processados\n",
    "\n",
    "Leitura dos conjuntos de treino processados (`X_train`, `y_train`) para modelagem."
   ]
  },
  {
   "cell_type": "code",
   "execution_count": null,
   "id": "da835abd",
   "metadata": {},
   "outputs": [],
   "source": [
    "X_train = pd.read_csv(\"data/processed/X_train.csv\")\n",
    "y_train = pd.read_csv(\"data/processed/y_train.csv\").values.ravel() "
   ]
  },
  {
   "cell_type": "markdown",
   "id": "06ca92e8",
   "metadata": {},
   "source": [
    "## Função de treinamento\n",
    "\n",
    "Função para realizar GridSearchCV e validação cruzada, retornando o melhor modelo, o score médio e os melhores parâmetros."
   ]
  },
  {
   "cell_type": "code",
   "execution_count": null,
   "id": "4d8f835e",
   "metadata": {},
   "outputs": [],
   "source": [
    "recall_macro = make_scorer(recall_score, average='macro')\n",
    "\n",
    "def train_classifier(model, param_grid, X, y, cv=5):\n",
    "    grid = GridSearchCV(\n",
    "        model,\n",
    "        param_grid,\n",
    "        cv=cv,\n",
    "        scoring=recall_macro,\n",
    "        n_jobs=-1\n",
    "    )\n",
    "    \n",
    "    grid.fit(X, y)\n",
    "    best_model = grid.best_estimator_\n",
    "    \n",
    "    scores = cross_val_score(best_model, X, y, scoring=recall_macro, cv=cv, n_jobs=-1)\n",
    "    mean_cv_recall = scores.mean()\n",
    "    \n",
    "    return best_model, mean_cv_recall, grid.best_params_\n"
   ]
  },
  {
   "cell_type": "markdown",
   "id": "69051596",
   "metadata": {},
   "source": [
    "## Definição de parâmetros dos modelos\n",
    "\n",
    "Configuração de hiperparâmetros para Decision Tree, Random Forest e Logistic Regression, com foco em reduzir overfitting e equilibrar classes."
   ]
  },
  {
   "cell_type": "code",
   "execution_count": null,
   "id": "2a7526c7",
   "metadata": {},
   "outputs": [],
   "source": [
    "dt_params = {\n",
    "    'max_depth': [3, 5, 8, 10],             \n",
    "    'min_samples_split': [5, 10, 20],       \n",
    "    'min_samples_leaf': [2, 4, 6, 8],       \n",
    "    'max_features': ['sqrt', 'log2'],       \n",
    "    'class_weight': ['balanced']\n",
    "}\n",
    "\n",
    "rf_params = {\n",
    "    'n_estimators': [100, 200],            \n",
    "    'max_depth': [8, 10, 12],              \n",
    "    'min_samples_split': [5, 10, 20],       \n",
    "    'min_samples_leaf': [2, 4, 6],         \n",
    "    'max_features': ['sqrt', 'log2'],       \n",
    "    'bootstrap': [True],\n",
    "    'class_weight': ['balanced'],\n",
    "    'max_samples': [0.7, 0.8, 0.9]          \n",
    "}\n",
    "\n",
    "\n",
    "logreg_params = {\n",
    "    'penalty': ['l2'],                    \n",
    "    'C': [0.001, 0.01, 0.1, 1, 10],       \n",
    "    'solver': ['lbfgs'],\n",
    "    'max_iter': [1000],                     \n",
    "    'class_weight': ['balanced']\n",
    "}\n",
    "\n"
   ]
  },
  {
   "cell_type": "markdown",
   "id": "6085cb1b",
   "metadata": {},
   "source": [
    "## Treinamento dos modelos\n",
    "\n",
    "Execução do treinamento e validação cruzada para encontrar os melhores modelos e parâmetros."
   ]
  },
  {
   "cell_type": "code",
   "execution_count": 63,
   "id": "499f06cf",
   "metadata": {},
   "outputs": [
    {
     "name": "stdout",
     "output_type": "stream",
     "text": [
      "Decision Tree - Melhores parâmetros: {'class_weight': 'balanced', 'max_depth': 10, 'max_features': 'sqrt', 'min_samples_leaf': 2, 'min_samples_split': 10} | Score CV: 0.5967328162523529\n",
      "Random Forest - Melhores parâmetros: {'bootstrap': True, 'class_weight': 'balanced', 'max_depth': 8, 'max_features': 'sqrt', 'max_samples': 0.9, 'min_samples_leaf': 2, 'min_samples_split': 5, 'n_estimators': 200} | Score CV: 0.6154718634386966\n",
      "Logistic Regression - Melhores parâmetros: {'C': 10, 'class_weight': 'balanced', 'max_iter': 1000, 'penalty': 'l2', 'solver': 'lbfgs'} | Score CV: 0.5779820049328228\n"
     ]
    }
   ],
   "source": [
    "best_dt, f1_dt, best_params_dt = train_classifier(DecisionTreeClassifier(random_state=42), dt_params, X_train, y_train)\n",
    "best_rf, f1_rf, best_params_rf = train_classifier(RandomForestClassifier(random_state=42), rf_params, X_train, y_train)\n",
    "best_logreg, f1_logreg, best_params_logreg = train_classifier(LogisticRegression(random_state=42), logreg_params, X_train, y_train)\n",
    "\n",
    "print(\"Decision Tree - Melhores parâmetros:\", best_params_dt, \"| Score CV:\", f1_dt)\n",
    "print(\"Random Forest - Melhores parâmetros:\", best_params_rf, \"| Score CV:\", f1_rf)\n",
    "print(\"Logistic Regression - Melhores parâmetros:\", best_params_logreg, \"| Score CV:\", f1_logreg)\n"
   ]
  },
  {
   "cell_type": "markdown",
   "id": "41ea09ab",
   "metadata": {},
   "source": [
    "## Avaliação dos modelos no conjunto de treino\n",
    "\n",
    "Geração de classification reports e matrizes de confusão para verificar o desempenho de cada modelo no treino."
   ]
  },
  {
   "cell_type": "code",
   "execution_count": 64,
   "id": "4a16c65f",
   "metadata": {},
   "outputs": [
    {
     "name": "stdout",
     "output_type": "stream",
     "text": [
      "Decision Tree Classification Report (Treino):\n",
      "               precision    recall  f1-score   support\n",
      "\n",
      "           0       0.75      0.38      0.50      2481\n",
      "           1       0.58      0.87      0.70      2481\n",
      "\n",
      "    accuracy                           0.63      4962\n",
      "   macro avg       0.66      0.63      0.60      4962\n",
      "weighted avg       0.66      0.63      0.60      4962\n",
      "\n",
      "Decision Tree Confusion Matrix (Treino):\n",
      " [[ 944 1537]\n",
      " [ 322 2159]]\n",
      "Random Forest Classification Report (Treino):\n",
      "               precision    recall  f1-score   support\n",
      "\n",
      "           0       0.78      0.41      0.54      2481\n",
      "           1       0.60      0.88      0.72      2481\n",
      "\n",
      "    accuracy                           0.65      4962\n",
      "   macro avg       0.69      0.65      0.63      4962\n",
      "weighted avg       0.69      0.65      0.63      4962\n",
      "\n",
      "Random Forest Confusion Matrix (Treino):\n",
      " [[1027 1454]\n",
      " [ 291 2190]]\n",
      "Logistic Regression Classification Report (Treino):\n",
      "               precision    recall  f1-score   support\n",
      "\n",
      "           0       0.59      0.55      0.57      2481\n",
      "           1       0.58      0.61      0.59      2481\n",
      "\n",
      "    accuracy                           0.58      4962\n",
      "   macro avg       0.58      0.58      0.58      4962\n",
      "weighted avg       0.58      0.58      0.58      4962\n",
      "\n",
      "Logistic Regression Confusion Matrix (Treino):\n",
      " [[1366 1115]\n",
      " [ 961 1520]]\n"
     ]
    }
   ],
   "source": [
    "# Decision Tree\n",
    "y_pred_dt = best_dt.predict(X_train)\n",
    "print(\"Decision Tree Classification Report (Treino):\\n\", classification_report(y_train, y_pred_dt))\n",
    "print(\"Decision Tree Confusion Matrix (Treino):\\n\", confusion_matrix(y_train, y_pred_dt))\n",
    "\n",
    "# Random Forest\n",
    "y_pred_rf = best_rf.predict(X_train)\n",
    "print(\"Random Forest Classification Report (Treino):\\n\", classification_report(y_train, y_pred_rf))\n",
    "print(\"Random Forest Confusion Matrix (Treino):\\n\", confusion_matrix(y_train, y_pred_rf))\n",
    "\n",
    "# Logistic Regression\n",
    "y_pred_logreg = best_logreg.predict(X_train)\n",
    "print(\"Logistic Regression Classification Report (Treino):\\n\", classification_report(y_train, y_pred_logreg))\n",
    "print(\"Logistic Regression Confusion Matrix (Treino):\\n\", confusion_matrix(y_train, y_pred_logreg))\n",
    "\n"
   ]
  },
  {
   "cell_type": "markdown",
   "id": "bde004b4",
   "metadata": {},
   "source": [
    "## Comparação entre valores reais e predições\n",
    "\n",
    "Criação de DataFrames para comparar os valores reais da variável alvo com as predições de cada modelo."
   ]
  },
  {
   "cell_type": "code",
   "execution_count": 65,
   "id": "72e6b989",
   "metadata": {},
   "outputs": [
    {
     "name": "stdout",
     "output_type": "stream",
     "text": [
      "Decision Tree - Comparação alvo x predição (treino):\n",
      "   y_real  y_pred\n",
      "0       1       1\n",
      "1       1       1\n",
      "2       0       1\n",
      "3       1       1\n",
      "4       0       0\n",
      "5       0       0\n",
      "6       0       0\n",
      "7       1       1\n",
      "8       0       1\n",
      "9       0       1\n",
      "Random Forest - Comparação alvo x predição (treino):\n",
      "   y_real  y_pred\n",
      "0       1       1\n",
      "1       1       1\n",
      "2       0       0\n",
      "3       1       1\n",
      "4       0       0\n",
      "5       0       0\n",
      "6       0       1\n",
      "7       1       1\n",
      "8       0       1\n",
      "9       0       1\n",
      "Logistic Regression - Comparação alvo x predição (treino):\n",
      "   y_real  y_pred\n",
      "0       1       1\n",
      "1       1       1\n",
      "2       0       0\n",
      "3       1       1\n",
      "4       0       0\n",
      "5       0       0\n",
      "6       0       1\n",
      "7       1       0\n",
      "8       0       0\n",
      "9       0       0\n"
     ]
    }
   ],
   "source": [
    "# Comparar y_real e y_pred\n",
    "\n",
    "\n",
    "# Decision Tree\n",
    "comparison_dt = pd.DataFrame({\n",
    "    'y_real': y_train,\n",
    "    'y_pred': y_pred_dt\n",
    "})\n",
    "print(\"Decision Tree - Comparação alvo x predição (treino):\")\n",
    "print(comparison_dt.head(10))\n",
    "\n",
    "# Random Forest\n",
    "comparison_rf = pd.DataFrame({\n",
    "    'y_real': y_train,\n",
    "    'y_pred': y_pred_rf\n",
    "})\n",
    "print(\"Random Forest - Comparação alvo x predição (treino):\")\n",
    "print(comparison_rf.head(10))\n",
    "\n",
    "# Logistic Regression\n",
    "comparison_logreg = pd.DataFrame({\n",
    "    'y_real': y_train,\n",
    "    'y_pred': y_pred_logreg\n",
    "})\n",
    "print(\"Logistic Regression - Comparação alvo x predição (treino):\")\n",
    "print(comparison_logreg.head(10))\n"
   ]
  },
  {
   "cell_type": "markdown",
   "id": "66036bbe",
   "metadata": {},
   "source": [
    "## Salvamento dos modelos\n",
    "\n",
    "Armazenamento dos modelos treinados em arquivos `.pkl` para uso futuro."
   ]
  },
  {
   "cell_type": "code",
   "execution_count": 66,
   "id": "6e0b9d2f",
   "metadata": {},
   "outputs": [
    {
     "data": {
      "text/plain": [
       "['models/logreg_model.pkl']"
      ]
     },
     "execution_count": 66,
     "metadata": {},
     "output_type": "execute_result"
    }
   ],
   "source": [
    "import os\n",
    "import joblib\n",
    "\n",
    "os.makedirs(\"models\", exist_ok=True)\n",
    "\n",
    "joblib.dump(best_dt, \"models/decision_tree_model.pkl\")\n",
    "joblib.dump(best_rf, \"models/random_forest_model.pkl\")\n",
    "joblib.dump(best_logreg, \"models/logreg_model.pkl\")\n"
   ]
  }
 ],
 "metadata": {
  "kernelspec": {
   "display_name": "Python 3 (ipykernel)",
   "language": "python",
   "name": "python3"
  },
  "language_info": {
   "codemirror_mode": {
    "name": "ipython",
    "version": 3
   },
   "file_extension": ".py",
   "mimetype": "text/x-python",
   "name": "python",
   "nbconvert_exporter": "python",
   "pygments_lexer": "ipython3",
   "version": "3.11.14"
  }
 },
 "nbformat": 4,
 "nbformat_minor": 5
}
